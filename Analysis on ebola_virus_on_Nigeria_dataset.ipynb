{
 "cells": [
  {
   "cell_type": "code",
   "execution_count": 1,
   "metadata": {},
   "outputs": [],
   "source": [
    "#import relevant libraries\n",
    "import pandas as pd\n",
    "from matplotlib import pyplot as plt\n",
    "import numpy as np\n",
    "%matplotlib inline"
   ]
  },
  {
   "cell_type": "code",
   "execution_count": 2,
   "metadata": {},
   "outputs": [
    {
     "data": {
      "text/html": [
       "<div>\n",
       "<style scoped>\n",
       "    .dataframe tbody tr th:only-of-type {\n",
       "        vertical-align: middle;\n",
       "    }\n",
       "\n",
       "    .dataframe tbody tr th {\n",
       "        vertical-align: top;\n",
       "    }\n",
       "\n",
       "    .dataframe thead th {\n",
       "        text-align: right;\n",
       "    }\n",
       "</style>\n",
       "<table border=\"1\" class=\"dataframe\">\n",
       "  <thead>\n",
       "    <tr style=\"text-align: right;\">\n",
       "      <th></th>\n",
       "      <th>Country</th>\n",
       "      <th>Date</th>\n",
       "      <th>No. of suspected cases</th>\n",
       "      <th>No. of probable cases</th>\n",
       "      <th>No. of confirmed cases</th>\n",
       "      <th>No. of confirmed, probable and suspected cases</th>\n",
       "      <th>No. of suspected deaths</th>\n",
       "      <th>No. of probable deaths</th>\n",
       "      <th>No. of confirmed deaths</th>\n",
       "      <th>No. of confirmed, probable and suspected deaths</th>\n",
       "    </tr>\n",
       "  </thead>\n",
       "  <tbody>\n",
       "    <tr>\n",
       "      <th>0</th>\n",
       "      <td>Guinea</td>\n",
       "      <td>2014-08-29</td>\n",
       "      <td>25.0</td>\n",
       "      <td>141.0</td>\n",
       "      <td>482.0</td>\n",
       "      <td>648.0</td>\n",
       "      <td>2.0</td>\n",
       "      <td>141.0</td>\n",
       "      <td>287.0</td>\n",
       "      <td>430.0</td>\n",
       "    </tr>\n",
       "    <tr>\n",
       "      <th>1</th>\n",
       "      <td>Nigeria</td>\n",
       "      <td>2014-08-29</td>\n",
       "      <td>3.0</td>\n",
       "      <td>1.0</td>\n",
       "      <td>15.0</td>\n",
       "      <td>19.0</td>\n",
       "      <td>0.0</td>\n",
       "      <td>1.0</td>\n",
       "      <td>6.0</td>\n",
       "      <td>7.0</td>\n",
       "    </tr>\n",
       "    <tr>\n",
       "      <th>2</th>\n",
       "      <td>Sierra Leone</td>\n",
       "      <td>2014-08-29</td>\n",
       "      <td>54.0</td>\n",
       "      <td>37.0</td>\n",
       "      <td>935.0</td>\n",
       "      <td>1026.0</td>\n",
       "      <td>8.0</td>\n",
       "      <td>34.0</td>\n",
       "      <td>380.0</td>\n",
       "      <td>422.0</td>\n",
       "    </tr>\n",
       "    <tr>\n",
       "      <th>3</th>\n",
       "      <td>Liberia</td>\n",
       "      <td>2014-08-29</td>\n",
       "      <td>382.0</td>\n",
       "      <td>674.0</td>\n",
       "      <td>322.0</td>\n",
       "      <td>1378.0</td>\n",
       "      <td>168.0</td>\n",
       "      <td>301.0</td>\n",
       "      <td>225.0</td>\n",
       "      <td>694.0</td>\n",
       "    </tr>\n",
       "    <tr>\n",
       "      <th>4</th>\n",
       "      <td>Sierra Leone</td>\n",
       "      <td>2014-09-05</td>\n",
       "      <td>78.0</td>\n",
       "      <td>37.0</td>\n",
       "      <td>1146.0</td>\n",
       "      <td>1261.0</td>\n",
       "      <td>11.0</td>\n",
       "      <td>37.0</td>\n",
       "      <td>443.0</td>\n",
       "      <td>491.0</td>\n",
       "    </tr>\n",
       "  </tbody>\n",
       "</table>\n",
       "</div>"
      ],
      "text/plain": [
       "        Country        Date  No. of suspected cases  No. of probable cases  \\\n",
       "0        Guinea  2014-08-29                    25.0                  141.0   \n",
       "1       Nigeria  2014-08-29                     3.0                    1.0   \n",
       "2  Sierra Leone  2014-08-29                    54.0                   37.0   \n",
       "3       Liberia  2014-08-29                   382.0                  674.0   \n",
       "4  Sierra Leone  2014-09-05                    78.0                   37.0   \n",
       "\n",
       "   No. of confirmed cases  No. of confirmed, probable and suspected cases  \\\n",
       "0                   482.0                                           648.0   \n",
       "1                    15.0                                            19.0   \n",
       "2                   935.0                                          1026.0   \n",
       "3                   322.0                                          1378.0   \n",
       "4                  1146.0                                          1261.0   \n",
       "\n",
       "   No. of suspected deaths  No. of probable deaths  No. of confirmed deaths  \\\n",
       "0                      2.0                   141.0                    287.0   \n",
       "1                      0.0                     1.0                      6.0   \n",
       "2                      8.0                    34.0                    380.0   \n",
       "3                    168.0                   301.0                    225.0   \n",
       "4                     11.0                    37.0                    443.0   \n",
       "\n",
       "   No. of confirmed, probable and suspected deaths  \n",
       "0                                            430.0  \n",
       "1                                              7.0  \n",
       "2                                            422.0  \n",
       "3                                            694.0  \n",
       "4                                            491.0  "
      ]
     },
     "execution_count": 2,
     "metadata": {},
     "output_type": "execute_result"
    }
   ],
   "source": [
    "#Import the data\n",
    "df = pd.read_csv('ebola_2014_2016_clean.csv')\n",
    "df.head()"
   ]
  },
  {
   "cell_type": "code",
   "execution_count": 3,
   "metadata": {},
   "outputs": [],
   "source": [
    "from datetime import date\n",
    "import datetime as dt\n",
    "df['Dates'] = pd.to_datetime(df['Date'])\n",
    "df['Year']= df.Dates.dt.year\n",
    "df['Month_name'] = df.Dates.dt.month_name()\n",
    "df['Day_name'] = df.Dates.dt.day_name()\n",
    "df['Month'] = df.Dates.dt.month\n",
    "df[\"Week\"] = df.Dates.dt.week\n",
    "df['Day_of_year']= df.Dates.dt.dayofyear\n"
   ]
  },
  {
   "cell_type": "code",
   "execution_count": 4,
   "metadata": {},
   "outputs": [
    {
     "name": "stdout",
     "output_type": "stream",
     "text": [
      "572 days, 0:00:00\n"
     ]
    }
   ],
   "source": [
    "d1 = date(2014,8,29)\n",
    "d2 = date(2016,3,23)\n",
    "delta = d2-d1\n",
    "print(delta)"
   ]
  },
  {
   "cell_type": "code",
   "execution_count": 5,
   "metadata": {},
   "outputs": [
    {
     "data": {
      "text/html": [
       "<div>\n",
       "<style scoped>\n",
       "    .dataframe tbody tr th:only-of-type {\n",
       "        vertical-align: middle;\n",
       "    }\n",
       "\n",
       "    .dataframe tbody tr th {\n",
       "        vertical-align: top;\n",
       "    }\n",
       "\n",
       "    .dataframe thead th {\n",
       "        text-align: right;\n",
       "    }\n",
       "</style>\n",
       "<table border=\"1\" class=\"dataframe\">\n",
       "  <thead>\n",
       "    <tr style=\"text-align: right;\">\n",
       "      <th></th>\n",
       "      <th>Country</th>\n",
       "      <th>Date</th>\n",
       "      <th>No. of suspected cases</th>\n",
       "      <th>No. of probable cases</th>\n",
       "      <th>No. of confirmed cases</th>\n",
       "      <th>No. of confirmed, probable and suspected cases</th>\n",
       "      <th>No. of suspected deaths</th>\n",
       "      <th>No. of probable deaths</th>\n",
       "      <th>No. of confirmed deaths</th>\n",
       "      <th>No. of confirmed, probable and suspected deaths</th>\n",
       "      <th>Dates</th>\n",
       "      <th>Year</th>\n",
       "      <th>Month_name</th>\n",
       "      <th>Day_name</th>\n",
       "      <th>Month</th>\n",
       "      <th>Week</th>\n",
       "      <th>Day_of_year</th>\n",
       "    </tr>\n",
       "  </thead>\n",
       "  <tbody>\n",
       "    <tr>\n",
       "      <th>0</th>\n",
       "      <td>Guinea</td>\n",
       "      <td>2014-08-29</td>\n",
       "      <td>25.0</td>\n",
       "      <td>141.0</td>\n",
       "      <td>482.0</td>\n",
       "      <td>648.0</td>\n",
       "      <td>2.0</td>\n",
       "      <td>141.0</td>\n",
       "      <td>287.0</td>\n",
       "      <td>430.0</td>\n",
       "      <td>2014-08-29</td>\n",
       "      <td>2014</td>\n",
       "      <td>August</td>\n",
       "      <td>Friday</td>\n",
       "      <td>8</td>\n",
       "      <td>35</td>\n",
       "      <td>241</td>\n",
       "    </tr>\n",
       "    <tr>\n",
       "      <th>1</th>\n",
       "      <td>Nigeria</td>\n",
       "      <td>2014-08-29</td>\n",
       "      <td>3.0</td>\n",
       "      <td>1.0</td>\n",
       "      <td>15.0</td>\n",
       "      <td>19.0</td>\n",
       "      <td>0.0</td>\n",
       "      <td>1.0</td>\n",
       "      <td>6.0</td>\n",
       "      <td>7.0</td>\n",
       "      <td>2014-08-29</td>\n",
       "      <td>2014</td>\n",
       "      <td>August</td>\n",
       "      <td>Friday</td>\n",
       "      <td>8</td>\n",
       "      <td>35</td>\n",
       "      <td>241</td>\n",
       "    </tr>\n",
       "    <tr>\n",
       "      <th>2</th>\n",
       "      <td>Sierra Leone</td>\n",
       "      <td>2014-08-29</td>\n",
       "      <td>54.0</td>\n",
       "      <td>37.0</td>\n",
       "      <td>935.0</td>\n",
       "      <td>1026.0</td>\n",
       "      <td>8.0</td>\n",
       "      <td>34.0</td>\n",
       "      <td>380.0</td>\n",
       "      <td>422.0</td>\n",
       "      <td>2014-08-29</td>\n",
       "      <td>2014</td>\n",
       "      <td>August</td>\n",
       "      <td>Friday</td>\n",
       "      <td>8</td>\n",
       "      <td>35</td>\n",
       "      <td>241</td>\n",
       "    </tr>\n",
       "    <tr>\n",
       "      <th>3</th>\n",
       "      <td>Liberia</td>\n",
       "      <td>2014-08-29</td>\n",
       "      <td>382.0</td>\n",
       "      <td>674.0</td>\n",
       "      <td>322.0</td>\n",
       "      <td>1378.0</td>\n",
       "      <td>168.0</td>\n",
       "      <td>301.0</td>\n",
       "      <td>225.0</td>\n",
       "      <td>694.0</td>\n",
       "      <td>2014-08-29</td>\n",
       "      <td>2014</td>\n",
       "      <td>August</td>\n",
       "      <td>Friday</td>\n",
       "      <td>8</td>\n",
       "      <td>35</td>\n",
       "      <td>241</td>\n",
       "    </tr>\n",
       "    <tr>\n",
       "      <th>4</th>\n",
       "      <td>Sierra Leone</td>\n",
       "      <td>2014-09-05</td>\n",
       "      <td>78.0</td>\n",
       "      <td>37.0</td>\n",
       "      <td>1146.0</td>\n",
       "      <td>1261.0</td>\n",
       "      <td>11.0</td>\n",
       "      <td>37.0</td>\n",
       "      <td>443.0</td>\n",
       "      <td>491.0</td>\n",
       "      <td>2014-09-05</td>\n",
       "      <td>2014</td>\n",
       "      <td>September</td>\n",
       "      <td>Friday</td>\n",
       "      <td>9</td>\n",
       "      <td>36</td>\n",
       "      <td>248</td>\n",
       "    </tr>\n",
       "  </tbody>\n",
       "</table>\n",
       "</div>"
      ],
      "text/plain": [
       "        Country        Date  No. of suspected cases  No. of probable cases  \\\n",
       "0        Guinea  2014-08-29                    25.0                  141.0   \n",
       "1       Nigeria  2014-08-29                     3.0                    1.0   \n",
       "2  Sierra Leone  2014-08-29                    54.0                   37.0   \n",
       "3       Liberia  2014-08-29                   382.0                  674.0   \n",
       "4  Sierra Leone  2014-09-05                    78.0                   37.0   \n",
       "\n",
       "   No. of confirmed cases  No. of confirmed, probable and suspected cases  \\\n",
       "0                   482.0                                           648.0   \n",
       "1                    15.0                                            19.0   \n",
       "2                   935.0                                          1026.0   \n",
       "3                   322.0                                          1378.0   \n",
       "4                  1146.0                                          1261.0   \n",
       "\n",
       "   No. of suspected deaths  No. of probable deaths  No. of confirmed deaths  \\\n",
       "0                      2.0                   141.0                    287.0   \n",
       "1                      0.0                     1.0                      6.0   \n",
       "2                      8.0                    34.0                    380.0   \n",
       "3                    168.0                   301.0                    225.0   \n",
       "4                     11.0                    37.0                    443.0   \n",
       "\n",
       "   No. of confirmed, probable and suspected deaths      Dates  Year  \\\n",
       "0                                            430.0 2014-08-29  2014   \n",
       "1                                              7.0 2014-08-29  2014   \n",
       "2                                            422.0 2014-08-29  2014   \n",
       "3                                            694.0 2014-08-29  2014   \n",
       "4                                            491.0 2014-09-05  2014   \n",
       "\n",
       "  Month_name Day_name  Month  Week  Day_of_year  \n",
       "0     August   Friday      8    35          241  \n",
       "1     August   Friday      8    35          241  \n",
       "2     August   Friday      8    35          241  \n",
       "3     August   Friday      8    35          241  \n",
       "4  September   Friday      9    36          248  "
      ]
     },
     "execution_count": 5,
     "metadata": {},
     "output_type": "execute_result"
    }
   ],
   "source": [
    "df.head()"
   ]
  },
  {
   "cell_type": "code",
   "execution_count": 6,
   "metadata": {},
   "outputs": [
    {
     "data": {
      "text/html": [
       "<div>\n",
       "<style scoped>\n",
       "    .dataframe tbody tr th:only-of-type {\n",
       "        vertical-align: middle;\n",
       "    }\n",
       "\n",
       "    .dataframe tbody tr th {\n",
       "        vertical-align: top;\n",
       "    }\n",
       "\n",
       "    .dataframe thead th {\n",
       "        text-align: right;\n",
       "    }\n",
       "</style>\n",
       "<table border=\"1\" class=\"dataframe\">\n",
       "  <thead>\n",
       "    <tr style=\"text-align: right;\">\n",
       "      <th></th>\n",
       "      <th>Country</th>\n",
       "      <th>Date</th>\n",
       "      <th>No. of suspected cases</th>\n",
       "      <th>No. of probable cases</th>\n",
       "      <th>No. of confirmed cases</th>\n",
       "      <th>No. of confirmed, probable and suspected cases</th>\n",
       "      <th>No. of suspected deaths</th>\n",
       "      <th>No. of probable deaths</th>\n",
       "      <th>No. of confirmed deaths</th>\n",
       "      <th>No. of confirmed, probable and suspected deaths</th>\n",
       "      <th>Dates</th>\n",
       "      <th>Year</th>\n",
       "      <th>Month_name</th>\n",
       "      <th>Day_name</th>\n",
       "      <th>Month</th>\n",
       "      <th>Week</th>\n",
       "      <th>Day_of_year</th>\n",
       "    </tr>\n",
       "  </thead>\n",
       "  <tbody>\n",
       "    <tr>\n",
       "      <th>1</th>\n",
       "      <td>Nigeria</td>\n",
       "      <td>2014-08-29</td>\n",
       "      <td>3.0</td>\n",
       "      <td>1.0</td>\n",
       "      <td>15.0</td>\n",
       "      <td>19.0</td>\n",
       "      <td>0.0</td>\n",
       "      <td>1.0</td>\n",
       "      <td>6.0</td>\n",
       "      <td>7.0</td>\n",
       "      <td>2014-08-29</td>\n",
       "      <td>2014</td>\n",
       "      <td>August</td>\n",
       "      <td>Friday</td>\n",
       "      <td>8</td>\n",
       "      <td>35</td>\n",
       "      <td>241</td>\n",
       "    </tr>\n",
       "    <tr>\n",
       "      <th>5</th>\n",
       "      <td>Nigeria</td>\n",
       "      <td>2014-09-05</td>\n",
       "      <td>3.0</td>\n",
       "      <td>1.0</td>\n",
       "      <td>18.0</td>\n",
       "      <td>22.0</td>\n",
       "      <td>0.0</td>\n",
       "      <td>1.0</td>\n",
       "      <td>7.0</td>\n",
       "      <td>8.0</td>\n",
       "      <td>2014-09-05</td>\n",
       "      <td>2014</td>\n",
       "      <td>September</td>\n",
       "      <td>Friday</td>\n",
       "      <td>9</td>\n",
       "      <td>36</td>\n",
       "      <td>248</td>\n",
       "    </tr>\n",
       "    <tr>\n",
       "      <th>13</th>\n",
       "      <td>Nigeria</td>\n",
       "      <td>2014-09-08</td>\n",
       "      <td>1.0</td>\n",
       "      <td>1.0</td>\n",
       "      <td>19.0</td>\n",
       "      <td>21.0</td>\n",
       "      <td>0.0</td>\n",
       "      <td>1.0</td>\n",
       "      <td>7.0</td>\n",
       "      <td>8.0</td>\n",
       "      <td>2014-09-08</td>\n",
       "      <td>2014</td>\n",
       "      <td>September</td>\n",
       "      <td>Monday</td>\n",
       "      <td>9</td>\n",
       "      <td>37</td>\n",
       "      <td>251</td>\n",
       "    </tr>\n",
       "    <tr>\n",
       "      <th>16</th>\n",
       "      <td>Nigeria</td>\n",
       "      <td>2014-09-12</td>\n",
       "      <td>1.0</td>\n",
       "      <td>1.0</td>\n",
       "      <td>19.0</td>\n",
       "      <td>21.0</td>\n",
       "      <td>0.0</td>\n",
       "      <td>1.0</td>\n",
       "      <td>7.0</td>\n",
       "      <td>8.0</td>\n",
       "      <td>2014-09-12</td>\n",
       "      <td>2014</td>\n",
       "      <td>September</td>\n",
       "      <td>Friday</td>\n",
       "      <td>9</td>\n",
       "      <td>37</td>\n",
       "      <td>255</td>\n",
       "    </tr>\n",
       "    <tr>\n",
       "      <th>22</th>\n",
       "      <td>Nigeria</td>\n",
       "      <td>2014-09-16</td>\n",
       "      <td>1.0</td>\n",
       "      <td>1.0</td>\n",
       "      <td>19.0</td>\n",
       "      <td>21.0</td>\n",
       "      <td>0.0</td>\n",
       "      <td>1.0</td>\n",
       "      <td>7.0</td>\n",
       "      <td>8.0</td>\n",
       "      <td>2014-09-16</td>\n",
       "      <td>2014</td>\n",
       "      <td>September</td>\n",
       "      <td>Tuesday</td>\n",
       "      <td>9</td>\n",
       "      <td>38</td>\n",
       "      <td>259</td>\n",
       "    </tr>\n",
       "  </tbody>\n",
       "</table>\n",
       "</div>"
      ],
      "text/plain": [
       "    Country        Date  No. of suspected cases  No. of probable cases  \\\n",
       "1   Nigeria  2014-08-29                     3.0                    1.0   \n",
       "5   Nigeria  2014-09-05                     3.0                    1.0   \n",
       "13  Nigeria  2014-09-08                     1.0                    1.0   \n",
       "16  Nigeria  2014-09-12                     1.0                    1.0   \n",
       "22  Nigeria  2014-09-16                     1.0                    1.0   \n",
       "\n",
       "    No. of confirmed cases  No. of confirmed, probable and suspected cases  \\\n",
       "1                     15.0                                            19.0   \n",
       "5                     18.0                                            22.0   \n",
       "13                    19.0                                            21.0   \n",
       "16                    19.0                                            21.0   \n",
       "22                    19.0                                            21.0   \n",
       "\n",
       "    No. of suspected deaths  No. of probable deaths  No. of confirmed deaths  \\\n",
       "1                       0.0                     1.0                      6.0   \n",
       "5                       0.0                     1.0                      7.0   \n",
       "13                      0.0                     1.0                      7.0   \n",
       "16                      0.0                     1.0                      7.0   \n",
       "22                      0.0                     1.0                      7.0   \n",
       "\n",
       "    No. of confirmed, probable and suspected deaths      Dates  Year  \\\n",
       "1                                               7.0 2014-08-29  2014   \n",
       "5                                               8.0 2014-09-05  2014   \n",
       "13                                              8.0 2014-09-08  2014   \n",
       "16                                              8.0 2014-09-12  2014   \n",
       "22                                              8.0 2014-09-16  2014   \n",
       "\n",
       "   Month_name Day_name  Month  Week  Day_of_year  \n",
       "1      August   Friday      8    35          241  \n",
       "5   September   Friday      9    36          248  \n",
       "13  September   Monday      9    37          251  \n",
       "16  September   Friday      9    37          255  \n",
       "22  September  Tuesday      9    38          259  "
      ]
     },
     "execution_count": 6,
     "metadata": {},
     "output_type": "execute_result"
    }
   ],
   "source": [
    "#Fetching the data by country (Nigeria)\n",
    "Nigeria = df.loc[df.Country == 'Nigeria']\n",
    "Nigeria.head()"
   ]
  },
  {
   "cell_type": "code",
   "execution_count": 7,
   "metadata": {},
   "outputs": [
    {
     "data": {
      "text/html": [
       "<div>\n",
       "<style scoped>\n",
       "    .dataframe tbody tr th:only-of-type {\n",
       "        vertical-align: middle;\n",
       "    }\n",
       "\n",
       "    .dataframe tbody tr th {\n",
       "        vertical-align: top;\n",
       "    }\n",
       "\n",
       "    .dataframe thead th {\n",
       "        text-align: right;\n",
       "    }\n",
       "</style>\n",
       "<table border=\"1\" class=\"dataframe\">\n",
       "  <thead>\n",
       "    <tr style=\"text-align: right;\">\n",
       "      <th></th>\n",
       "      <th>Country</th>\n",
       "      <th>Date</th>\n",
       "      <th>No. of suspected cases</th>\n",
       "      <th>No. of probable cases</th>\n",
       "      <th>No. of confirmed cases</th>\n",
       "      <th>No. of confirmed, probable and suspected cases</th>\n",
       "      <th>No. of suspected deaths</th>\n",
       "      <th>No. of probable deaths</th>\n",
       "      <th>No. of confirmed deaths</th>\n",
       "      <th>No. of confirmed, probable and suspected deaths</th>\n",
       "      <th>Dates</th>\n",
       "      <th>Year</th>\n",
       "      <th>Month_name</th>\n",
       "      <th>Day_name</th>\n",
       "      <th>Month</th>\n",
       "      <th>Week</th>\n",
       "      <th>Day_of_year</th>\n",
       "    </tr>\n",
       "  </thead>\n",
       "  <tbody>\n",
       "    <tr>\n",
       "      <th>2430</th>\n",
       "      <td>Nigeria</td>\n",
       "      <td>2015-12-17</td>\n",
       "      <td>0.0</td>\n",
       "      <td>1.0</td>\n",
       "      <td>19.0</td>\n",
       "      <td>20.0</td>\n",
       "      <td>0.0</td>\n",
       "      <td>1.0</td>\n",
       "      <td>7.0</td>\n",
       "      <td>8.0</td>\n",
       "      <td>2015-12-17</td>\n",
       "      <td>2015</td>\n",
       "      <td>December</td>\n",
       "      <td>Thursday</td>\n",
       "      <td>12</td>\n",
       "      <td>51</td>\n",
       "      <td>351</td>\n",
       "    </tr>\n",
       "    <tr>\n",
       "      <th>2440</th>\n",
       "      <td>Nigeria</td>\n",
       "      <td>2015-12-22</td>\n",
       "      <td>0.0</td>\n",
       "      <td>1.0</td>\n",
       "      <td>19.0</td>\n",
       "      <td>20.0</td>\n",
       "      <td>0.0</td>\n",
       "      <td>1.0</td>\n",
       "      <td>7.0</td>\n",
       "      <td>8.0</td>\n",
       "      <td>2015-12-22</td>\n",
       "      <td>2015</td>\n",
       "      <td>December</td>\n",
       "      <td>Tuesday</td>\n",
       "      <td>12</td>\n",
       "      <td>52</td>\n",
       "      <td>356</td>\n",
       "    </tr>\n",
       "    <tr>\n",
       "      <th>2460</th>\n",
       "      <td>Nigeria</td>\n",
       "      <td>2015-12-23</td>\n",
       "      <td>0.0</td>\n",
       "      <td>1.0</td>\n",
       "      <td>19.0</td>\n",
       "      <td>20.0</td>\n",
       "      <td>0.0</td>\n",
       "      <td>1.0</td>\n",
       "      <td>7.0</td>\n",
       "      <td>8.0</td>\n",
       "      <td>2015-12-23</td>\n",
       "      <td>2015</td>\n",
       "      <td>December</td>\n",
       "      <td>Wednesday</td>\n",
       "      <td>12</td>\n",
       "      <td>52</td>\n",
       "      <td>357</td>\n",
       "    </tr>\n",
       "    <tr>\n",
       "      <th>2471</th>\n",
       "      <td>Nigeria</td>\n",
       "      <td>2015-12-29</td>\n",
       "      <td>0.0</td>\n",
       "      <td>1.0</td>\n",
       "      <td>19.0</td>\n",
       "      <td>20.0</td>\n",
       "      <td>0.0</td>\n",
       "      <td>1.0</td>\n",
       "      <td>7.0</td>\n",
       "      <td>8.0</td>\n",
       "      <td>2015-12-29</td>\n",
       "      <td>2015</td>\n",
       "      <td>December</td>\n",
       "      <td>Tuesday</td>\n",
       "      <td>12</td>\n",
       "      <td>53</td>\n",
       "      <td>363</td>\n",
       "    </tr>\n",
       "    <tr>\n",
       "      <th>2483</th>\n",
       "      <td>Nigeria</td>\n",
       "      <td>2016-03-23</td>\n",
       "      <td>0.0</td>\n",
       "      <td>1.0</td>\n",
       "      <td>19.0</td>\n",
       "      <td>20.0</td>\n",
       "      <td>0.0</td>\n",
       "      <td>1.0</td>\n",
       "      <td>7.0</td>\n",
       "      <td>8.0</td>\n",
       "      <td>2016-03-23</td>\n",
       "      <td>2016</td>\n",
       "      <td>March</td>\n",
       "      <td>Wednesday</td>\n",
       "      <td>3</td>\n",
       "      <td>12</td>\n",
       "      <td>83</td>\n",
       "    </tr>\n",
       "  </tbody>\n",
       "</table>\n",
       "</div>"
      ],
      "text/plain": [
       "      Country        Date  No. of suspected cases  No. of probable cases  \\\n",
       "2430  Nigeria  2015-12-17                     0.0                    1.0   \n",
       "2440  Nigeria  2015-12-22                     0.0                    1.0   \n",
       "2460  Nigeria  2015-12-23                     0.0                    1.0   \n",
       "2471  Nigeria  2015-12-29                     0.0                    1.0   \n",
       "2483  Nigeria  2016-03-23                     0.0                    1.0   \n",
       "\n",
       "      No. of confirmed cases  No. of confirmed, probable and suspected cases  \\\n",
       "2430                    19.0                                            20.0   \n",
       "2440                    19.0                                            20.0   \n",
       "2460                    19.0                                            20.0   \n",
       "2471                    19.0                                            20.0   \n",
       "2483                    19.0                                            20.0   \n",
       "\n",
       "      No. of suspected deaths  No. of probable deaths  \\\n",
       "2430                      0.0                     1.0   \n",
       "2440                      0.0                     1.0   \n",
       "2460                      0.0                     1.0   \n",
       "2471                      0.0                     1.0   \n",
       "2483                      0.0                     1.0   \n",
       "\n",
       "      No. of confirmed deaths  \\\n",
       "2430                      7.0   \n",
       "2440                      7.0   \n",
       "2460                      7.0   \n",
       "2471                      7.0   \n",
       "2483                      7.0   \n",
       "\n",
       "      No. of confirmed, probable and suspected deaths      Dates  Year  \\\n",
       "2430                                              8.0 2015-12-17  2015   \n",
       "2440                                              8.0 2015-12-22  2015   \n",
       "2460                                              8.0 2015-12-23  2015   \n",
       "2471                                              8.0 2015-12-29  2015   \n",
       "2483                                              8.0 2016-03-23  2016   \n",
       "\n",
       "     Month_name   Day_name  Month  Week  Day_of_year  \n",
       "2430   December   Thursday     12    51          351  \n",
       "2440   December    Tuesday     12    52          356  \n",
       "2460   December  Wednesday     12    52          357  \n",
       "2471   December    Tuesday     12    53          363  \n",
       "2483      March  Wednesday      3    12           83  "
      ]
     },
     "execution_count": 7,
     "metadata": {},
     "output_type": "execute_result"
    }
   ],
   "source": [
    "Nigeria.tail()"
   ]
  },
  {
   "cell_type": "code",
   "execution_count": 8,
   "metadata": {},
   "outputs": [
    {
     "name": "stdout",
     "output_type": "stream",
     "text": [
      "The date of  Nigeria data is from 2014-08-29 00:00:00 to 2016-03-23 00:00:00 ,a total number of 572 days, 0:00:00\n",
      "The total number of confirmed cases in Nigeria is 4840.0\n",
      "The total number of confirmed deaths in Nigeria is 1784.0\n",
      "The total number of suspected cases in Nigeria is 10.0\n",
      "The total number of suspected deaths in Nigeria is 0.0\n",
      "The total number of probable cases in Nigeria is 255.0\n",
      "The total number of probable deaths in Nigeria is 255.0\n"
     ]
    }
   ],
   "source": [
    "print('The date of  Nigeria data is from', Nigeria.Dates.min(), 'to', Nigeria.Dates.max(),\n",
    "      ',a total number of', delta)\n",
    "print('The total number of confirmed cases in Nigeria is', Nigeria['No. of confirmed cases'].sum())\n",
    "print('The total number of confirmed deaths in Nigeria is', Nigeria['No. of confirmed deaths'].sum())\n",
    "print('The total number of suspected cases in Nigeria is', Nigeria['No. of suspected cases'].sum())\n",
    "print('The total number of suspected deaths in Nigeria is', Nigeria['No. of suspected deaths'].sum())\n",
    "print('The total number of probable cases in Nigeria is', Nigeria['No. of probable cases'].sum())\n",
    "print('The total number of probable deaths in Nigeria is', Nigeria['No. of probable deaths'].sum())"
   ]
  },
  {
   "cell_type": "code",
   "execution_count": 9,
   "metadata": {},
   "outputs": [
    {
     "data": {
      "text/html": [
       "<div>\n",
       "<style scoped>\n",
       "    .dataframe tbody tr th:only-of-type {\n",
       "        vertical-align: middle;\n",
       "    }\n",
       "\n",
       "    .dataframe tbody tr th {\n",
       "        vertical-align: top;\n",
       "    }\n",
       "\n",
       "    .dataframe thead th {\n",
       "        text-align: right;\n",
       "    }\n",
       "</style>\n",
       "<table border=\"1\" class=\"dataframe\">\n",
       "  <thead>\n",
       "    <tr style=\"text-align: right;\">\n",
       "      <th></th>\n",
       "      <th>No. of confirmed cases</th>\n",
       "      <th>No. of confirmed deaths</th>\n",
       "    </tr>\n",
       "    <tr>\n",
       "      <th>Month_name</th>\n",
       "      <th></th>\n",
       "      <th></th>\n",
       "    </tr>\n",
       "  </thead>\n",
       "  <tbody>\n",
       "    <tr>\n",
       "      <th>April</th>\n",
       "      <td>285.0</td>\n",
       "      <td>105.0</td>\n",
       "    </tr>\n",
       "    <tr>\n",
       "      <th>August</th>\n",
       "      <td>414.0</td>\n",
       "      <td>153.0</td>\n",
       "    </tr>\n",
       "    <tr>\n",
       "      <th>December</th>\n",
       "      <td>456.0</td>\n",
       "      <td>168.0</td>\n",
       "    </tr>\n",
       "    <tr>\n",
       "      <th>February</th>\n",
       "      <td>342.0</td>\n",
       "      <td>126.0</td>\n",
       "    </tr>\n",
       "    <tr>\n",
       "      <th>January</th>\n",
       "      <td>323.0</td>\n",
       "      <td>119.0</td>\n",
       "    </tr>\n",
       "    <tr>\n",
       "      <th>July</th>\n",
       "      <td>437.0</td>\n",
       "      <td>161.0</td>\n",
       "    </tr>\n",
       "    <tr>\n",
       "      <th>June</th>\n",
       "      <td>418.0</td>\n",
       "      <td>154.0</td>\n",
       "    </tr>\n",
       "    <tr>\n",
       "      <th>March</th>\n",
       "      <td>342.0</td>\n",
       "      <td>126.0</td>\n",
       "    </tr>\n",
       "    <tr>\n",
       "      <th>May</th>\n",
       "      <td>399.0</td>\n",
       "      <td>147.0</td>\n",
       "    </tr>\n",
       "    <tr>\n",
       "      <th>November</th>\n",
       "      <td>342.0</td>\n",
       "      <td>126.0</td>\n",
       "    </tr>\n",
       "    <tr>\n",
       "      <th>October</th>\n",
       "      <td>513.0</td>\n",
       "      <td>189.0</td>\n",
       "    </tr>\n",
       "    <tr>\n",
       "      <th>September</th>\n",
       "      <td>569.0</td>\n",
       "      <td>210.0</td>\n",
       "    </tr>\n",
       "  </tbody>\n",
       "</table>\n",
       "</div>"
      ],
      "text/plain": [
       "            No. of confirmed cases  No. of confirmed deaths\n",
       "Month_name                                                 \n",
       "April                        285.0                    105.0\n",
       "August                       414.0                    153.0\n",
       "December                     456.0                    168.0\n",
       "February                     342.0                    126.0\n",
       "January                      323.0                    119.0\n",
       "July                         437.0                    161.0\n",
       "June                         418.0                    154.0\n",
       "March                        342.0                    126.0\n",
       "May                          399.0                    147.0\n",
       "November                     342.0                    126.0\n",
       "October                      513.0                    189.0\n",
       "September                    569.0                    210.0"
      ]
     },
     "execution_count": 9,
     "metadata": {},
     "output_type": "execute_result"
    }
   ],
   "source": [
    "Nigeria.groupby('Month_name')['No. of confirmed cases', 'No. of confirmed deaths'].sum()"
   ]
  },
  {
   "cell_type": "code",
   "execution_count": 10,
   "metadata": {},
   "outputs": [
    {
     "data": {
      "text/plain": [
       "Month_name\n",
       "September    569.0\n",
       "October      513.0\n",
       "December     456.0\n",
       "Name: No. of confirmed cases, dtype: float64"
      ]
     },
     "execution_count": 10,
     "metadata": {},
     "output_type": "execute_result"
    }
   ],
   "source": [
    "#Months with the highest number of confirmed cases(3)\n",
    "Nigeria.groupby('Month_name')['No. of confirmed cases'].sum().nlargest(3)"
   ]
  },
  {
   "cell_type": "code",
   "execution_count": 11,
   "metadata": {},
   "outputs": [
    {
     "data": {
      "text/plain": [
       "Month_name\n",
       "September    210.0\n",
       "October      189.0\n",
       "December     168.0\n",
       "Name: No. of confirmed deaths, dtype: float64"
      ]
     },
     "execution_count": 11,
     "metadata": {},
     "output_type": "execute_result"
    }
   ],
   "source": [
    "#Months with the highest number of confirmed deaths(3)\n",
    "Nigeria.groupby('Month_name')['No. of confirmed deaths'].sum().nlargest(3)"
   ]
  },
  {
   "cell_type": "code",
   "execution_count": 12,
   "metadata": {},
   "outputs": [
    {
     "data": {
      "image/png": "[encoded data removed]",
      "text/plain": [
       "<Figure size 432x288 with 2 Axes>"
      ]
     },
     "metadata": {
      "needs_background": "light"
     },
     "output_type": "display_data"
    }
   ],
   "source": [
    "#Barchart showing months with the highest confirmed cases and highest confirmed deaths(3)\n",
    "plt.subplot(1,2,1)\n",
    "Nigeria.groupby('Month_name')['No. of confirmed cases'].sum().nlargest(3).plot(kind = 'bar', grid = True)\n",
    "plt.title('Confirmed cases (3)')\n",
    "plt.xlabel('Months')\n",
    "plt.ylabel('No. of probable cases')\n",
    "plt.subplot(1,2,2)\n",
    "Nigeria.groupby('Month_name')['No. of confirmed deaths'].sum().nlargest(3).plot(kind = 'bar', grid = True,\n",
    "                                                                       color = 'red')\n",
    "plt.title('Confirmed deaths (3)')\n",
    "plt.xlabel('Months')\n",
    "plt.ylabel('No. of probable deaths')\n",
    "plt.tight_layout()\n",
    "plt.show()"
   ]
  },
  {
   "cell_type": "code",
   "execution_count": 13,
   "metadata": {},
   "outputs": [
    {
     "data": {
      "text/plain": [
       "Month_name\n",
       "September    7.0\n",
       "August       3.0\n",
       "April        0.0\n",
       "Name: No. of suspected cases, dtype: float64"
      ]
     },
     "execution_count": 13,
     "metadata": {},
     "output_type": "execute_result"
    }
   ],
   "source": [
    "#Months with the highest number of suspected cases(3)\n",
    "Nigeria.groupby('Month_name')['No. of suspected cases'].sum().nlargest(3)"
   ]
  },
  {
   "cell_type": "code",
   "execution_count": 14,
   "metadata": {},
   "outputs": [
    {
     "data": {
      "text/plain": [
       "Month_name\n",
       "April       0.0\n",
       "August      0.0\n",
       "December    0.0\n",
       "Name: No. of suspected deaths, dtype: float64"
      ]
     },
     "execution_count": 14,
     "metadata": {},
     "output_type": "execute_result"
    }
   ],
   "source": [
    "#Months with the highest number of suspected deaths(3)\n",
    "Nigeria.groupby('Month_name')['No. of suspected deaths'].sum().nlargest(3)"
   ]
  },
  {
   "cell_type": "code",
   "execution_count": 15,
   "metadata": {},
   "outputs": [
    {
     "data": {
      "image/png": "[encoded data removed]",
      "text/plain": [
       "<Figure size 432x288 with 1 Axes>"
      ]
     },
     "metadata": {
      "needs_background": "light"
     },
     "output_type": "display_data"
    }
   ],
   "source": [
    "#Barchart showing months with the highest number of suspected cases(3)\n",
    "plt.subplot(1,2,1)\n",
    "Nigeria.groupby('Month_name')['No. of suspected cases'].sum().nlargest(3).plot(kind = 'bar', grid = True)\n",
    "plt.title('Suspected cases (3)')\n",
    "plt.xlabel('Months')\n",
    "plt.ylabel('No. of suspected cases')\n",
    "plt.show()"
   ]
  },
  {
   "cell_type": "code",
   "execution_count": 16,
   "metadata": {},
   "outputs": [
    {
     "data": {
      "image/png": "[encoded data removed]",
      "text/plain": [
       "<Figure size 432x288 with 2 Axes>"
      ]
     },
     "metadata": {
      "needs_background": "light"
     },
     "output_type": "display_data"
    }
   ],
   "source": [
    "#Barchart showing months with the highest number of probable cases and highest number of probable deaths(3)\n",
    "plt.subplot(1,2,1)\n",
    "Nigeria.groupby('Month_name')['No. of probable cases'].sum().nlargest(3).plot(kind = 'bar', grid = True)\n",
    "plt.title('Probable cases (3)')\n",
    "plt.xlabel('Months')\n",
    "plt.ylabel('No. of probable cases')\n",
    "plt.subplot(1,2,2)\n",
    "Nigeria.groupby('Month_name')['No. of probable deaths'].sum().nlargest(3).plot(kind = 'bar', grid = True,\n",
    "                                                                       color = 'red')\n",
    "plt.title('Probable deaths (3)')\n",
    "plt.xlabel('Months')\n",
    "plt.ylabel('No. of probable deaths')\n",
    "plt.tight_layout()\n",
    "plt.show()"
   ]
  },
  {
   "cell_type": "code",
   "execution_count": 17,
   "metadata": {},
   "outputs": [
    {
     "data": {
      "text/plain": [
       "Week\n",
       "39    152.0\n",
       "37    133.0\n",
       "38    133.0\n",
       "Name: No. of confirmed cases, dtype: float64"
      ]
     },
     "execution_count": 17,
     "metadata": {},
     "output_type": "execute_result"
    }
   ],
   "source": [
    "#Week with the highest number of confirmed cases(3)\n",
    "Nigeria.groupby('Week')['No. of confirmed cases'].sum().nlargest(3)"
   ]
  },
  {
   "cell_type": "code",
   "execution_count": 18,
   "metadata": {},
   "outputs": [
    {
     "data": {
      "text/plain": [
       "Week\n",
       "39    56.0\n",
       "37    49.0\n",
       "38    49.0\n",
       "Name: No. of confirmed deaths, dtype: float64"
      ]
     },
     "execution_count": 18,
     "metadata": {},
     "output_type": "execute_result"
    }
   ],
   "source": [
    "#Week with the highest number of confirmed deaths(3)\n",
    "Nigeria.groupby('Week')['No. of confirmed deaths'].sum().nlargest(3)"
   ]
  },
  {
   "cell_type": "code",
   "execution_count": 19,
   "metadata": {},
   "outputs": [
    {
     "data": {
      "image/png": "[encoded data removed]",
      "text/plain": [
       "<Figure size 432x288 with 2 Axes>"
      ]
     },
     "metadata": {
      "needs_background": "light"
     },
     "output_type": "display_data"
    }
   ],
   "source": [
    "#Barchart showing the week with the highest number of confirmed cases and highest number of confirmed deaths(3)\n",
    "plt.subplot(1,2,1)\n",
    "Nigeria.groupby('Week')['No. of confirmed cases'].sum().nlargest(3).plot(kind = 'bar', grid = True)\n",
    "plt.title('Confirmed cases (3)')\n",
    "plt.xlabel('Week')\n",
    "plt.ylabel('No. of confirmed cases')\n",
    "plt.subplot(1,2,2)\n",
    "Nigeria.groupby('Week')['No. of confirmed deaths'].sum().nlargest(3).plot(kind = 'bar', grid = True,\n",
    "                                                                       color = 'red')\n",
    "plt.title('Confirmed deaths (3)')\n",
    "plt.xlabel('Week')\n",
    "plt.ylabel('No. of confirmed deaths')\n",
    "plt.tight_layout()\n",
    "plt.show()"
   ]
  },
  {
   "cell_type": "code",
   "execution_count": 20,
   "metadata": {},
   "outputs": [
    {
     "data": {
      "text/plain": [
       "Week\n",
       "35    3.0\n",
       "36    3.0\n",
       "37    2.0\n",
       "Name: No. of suspected cases, dtype: float64"
      ]
     },
     "execution_count": 20,
     "metadata": {},
     "output_type": "execute_result"
    }
   ],
   "source": [
    "#Week with the highest number of suspected cases(3)\n",
    "Nigeria.groupby('Week')['No. of suspected cases'].sum().nlargest(3)"
   ]
  },
  {
   "cell_type": "code",
   "execution_count": 21,
   "metadata": {},
   "outputs": [
    {
     "data": {
      "text/plain": [
       "Week\n",
       "1    0.0\n",
       "2    0.0\n",
       "3    0.0\n",
       "Name: No. of suspected deaths, dtype: float64"
      ]
     },
     "execution_count": 21,
     "metadata": {},
     "output_type": "execute_result"
    }
   ],
   "source": [
    "#Week with the highest number of suspected deaths(3)\n",
    "Nigeria.groupby('Week')['No. of suspected deaths'].sum().nlargest(3)"
   ]
  },
  {
   "cell_type": "code",
   "execution_count": 22,
   "metadata": {},
   "outputs": [
    {
     "data": {
      "image/png": "[encoded data removed]",
      "text/plain": [
       "<Figure size 432x288 with 1 Axes>"
      ]
     },
     "metadata": {
      "needs_background": "light"
     },
     "output_type": "display_data"
    }
   ],
   "source": [
    "#Barchart showing the weeks with the highest number suspected cases (3)\n",
    "plt.subplot(1,2,1)\n",
    "Nigeria.groupby('Week')['No. of suspected cases'].sum().nlargest(3).plot(kind = 'bar', grid = True)\n",
    "plt.title('Suspected cases (3)')\n",
    "plt.xlabel('Week')\n",
    "plt.ylabel('No of suspected cases')\n",
    "plt.show()"
   ]
  },
  {
   "cell_type": "code",
   "execution_count": 23,
   "metadata": {},
   "outputs": [
    {
     "data": {
      "text/plain": [
       "Week\n",
       "39    8.0\n",
       "37    7.0\n",
       "38    7.0\n",
       "Name: No. of probable cases, dtype: float64"
      ]
     },
     "execution_count": 23,
     "metadata": {},
     "output_type": "execute_result"
    }
   ],
   "source": [
    "#Week with the highest number of probable cases(3)\n",
    "Nigeria.groupby('Week')['No. of probable cases'].sum().nlargest(3)"
   ]
  },
  {
   "cell_type": "code",
   "execution_count": 24,
   "metadata": {},
   "outputs": [
    {
     "data": {
      "text/plain": [
       "Week\n",
       "39    8.0\n",
       "37    7.0\n",
       "38    7.0\n",
       "Name: No. of probable deaths, dtype: float64"
      ]
     },
     "execution_count": 24,
     "metadata": {},
     "output_type": "execute_result"
    }
   ],
   "source": [
    "#Week with the highest number of probable deaths(3)\n",
    "Nigeria.groupby('Week')['No. of probable deaths'].sum().nlargest(3)"
   ]
  },
  {
   "cell_type": "code",
   "execution_count": 25,
   "metadata": {},
   "outputs": [
    {
     "data": {
      "image/png": "[encoded data removed]",
      "text/plain": [
       "<Figure size 432x288 with 2 Axes>"
      ]
     },
     "metadata": {
      "needs_background": "light"
     },
     "output_type": "display_data"
    }
   ],
   "source": [
    "#Barchart showing the weeks with the highest number of probable cases and highest number of probable deaths(3)\n",
    "plt.subplot(1,2,1)\n",
    "Nigeria.groupby('Week')['No. of probable cases'].sum().nlargest(3).plot(kind = 'bar', grid = True)\n",
    "plt.title('Probable cases (3)')\n",
    "plt.xlabel('Week')\n",
    "plt.ylabel('No of probable cases')\n",
    "plt.subplot(1,2,2)\n",
    "Nigeria.groupby('Week')['No. of probable deaths'].sum().nlargest(3).plot(kind = 'bar', grid = True,\n",
    "                                                                       color = 'red')\n",
    "plt.title('Probleble deaths (3)')\n",
    "plt.xlabel('Week')\n",
    "plt.ylabel('No of probable deaths')\n",
    "plt.tight_layout()\n",
    "plt.show()"
   ]
  },
  {
   "cell_type": "code",
   "execution_count": null,
   "metadata": {},
   "outputs": [],
   "source": []
  }
 ],
 "metadata": {
  "kernelspec": {
   "display_name": "Python 3",
   "language": "python",
   "name": "python3"
  },
  "language_info": {
   "codemirror_mode": {
    "name": "ipython",
    "version": 3
   },
   "file_extension": ".py",
   "mimetype": "text/x-python",
   "name": "python",
   "nbconvert_exporter": "python",
   "pygments_lexer": "ipython3",
   "version": "3.7.3"
  }
 },
 "nbformat": 4,
 "nbformat_minor": 2
}
